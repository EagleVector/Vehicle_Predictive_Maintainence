{
 "cells": [
  {
   "cell_type": "markdown",
   "id": "10dab641",
   "metadata": {},
   "source": [
    "# Vehicle Predictive Maintainence"
   ]
  },
  {
   "cell_type": "markdown",
   "id": "7af21efe",
   "metadata": {},
   "source": [
    "###### Objective of this project is to predict the air temperature given the independent features."
   ]
  },
  {
   "cell_type": "markdown",
   "id": "ea137982",
   "metadata": {},
   "source": [
    "## Importing all the dependencies"
   ]
  },
  {
   "cell_type": "code",
   "execution_count": 37,
   "id": "bd0e5448",
   "metadata": {},
   "outputs": [],
   "source": [
    "import pandas as pd\n",
    "import numpy as np\n",
    "import matplotlib.pyplot as plt\n",
    "import pickle\n",
    "from pandas_profiling import ProfileReport\n",
    "from sklearn.metrics import accuracy_score"
   ]
  },
  {
   "cell_type": "markdown",
   "id": "737bc3cb",
   "metadata": {},
   "source": [
    "## Data Loading"
   ]
  },
  {
   "cell_type": "code",
   "execution_count": 2,
   "id": "4a1258de",
   "metadata": {},
   "outputs": [],
   "source": [
    "data = pd.read_csv('ai4i2020.csv')"
   ]
  },
  {
   "cell_type": "code",
   "execution_count": 3,
   "id": "b64c5e43",
   "metadata": {
    "scrolled": false
   },
   "outputs": [
    {
     "data": {
      "text/html": [
       "<div>\n",
       "<style scoped>\n",
       "    .dataframe tbody tr th:only-of-type {\n",
       "        vertical-align: middle;\n",
       "    }\n",
       "\n",
       "    .dataframe tbody tr th {\n",
       "        vertical-align: top;\n",
       "    }\n",
       "\n",
       "    .dataframe thead th {\n",
       "        text-align: right;\n",
       "    }\n",
       "</style>\n",
       "<table border=\"1\" class=\"dataframe\">\n",
       "  <thead>\n",
       "    <tr style=\"text-align: right;\">\n",
       "      <th></th>\n",
       "      <th>UDI</th>\n",
       "      <th>Product ID</th>\n",
       "      <th>Type</th>\n",
       "      <th>Air temperature [K]</th>\n",
       "      <th>Process temperature [K]</th>\n",
       "      <th>Rotational speed [rpm]</th>\n",
       "      <th>Torque [Nm]</th>\n",
       "      <th>Tool wear [min]</th>\n",
       "      <th>Machine failure</th>\n",
       "      <th>TWF</th>\n",
       "      <th>HDF</th>\n",
       "      <th>PWF</th>\n",
       "      <th>OSF</th>\n",
       "      <th>RNF</th>\n",
       "    </tr>\n",
       "  </thead>\n",
       "  <tbody>\n",
       "    <tr>\n",
       "      <th>0</th>\n",
       "      <td>1</td>\n",
       "      <td>M14860</td>\n",
       "      <td>M</td>\n",
       "      <td>298.1</td>\n",
       "      <td>308.6</td>\n",
       "      <td>1551</td>\n",
       "      <td>42.8</td>\n",
       "      <td>0</td>\n",
       "      <td>0</td>\n",
       "      <td>0</td>\n",
       "      <td>0</td>\n",
       "      <td>0</td>\n",
       "      <td>0</td>\n",
       "      <td>0</td>\n",
       "    </tr>\n",
       "    <tr>\n",
       "      <th>1</th>\n",
       "      <td>2</td>\n",
       "      <td>L47181</td>\n",
       "      <td>L</td>\n",
       "      <td>298.2</td>\n",
       "      <td>308.7</td>\n",
       "      <td>1408</td>\n",
       "      <td>46.3</td>\n",
       "      <td>3</td>\n",
       "      <td>0</td>\n",
       "      <td>0</td>\n",
       "      <td>0</td>\n",
       "      <td>0</td>\n",
       "      <td>0</td>\n",
       "      <td>0</td>\n",
       "    </tr>\n",
       "    <tr>\n",
       "      <th>2</th>\n",
       "      <td>3</td>\n",
       "      <td>L47182</td>\n",
       "      <td>L</td>\n",
       "      <td>298.1</td>\n",
       "      <td>308.5</td>\n",
       "      <td>1498</td>\n",
       "      <td>49.4</td>\n",
       "      <td>5</td>\n",
       "      <td>0</td>\n",
       "      <td>0</td>\n",
       "      <td>0</td>\n",
       "      <td>0</td>\n",
       "      <td>0</td>\n",
       "      <td>0</td>\n",
       "    </tr>\n",
       "    <tr>\n",
       "      <th>3</th>\n",
       "      <td>4</td>\n",
       "      <td>L47183</td>\n",
       "      <td>L</td>\n",
       "      <td>298.2</td>\n",
       "      <td>308.6</td>\n",
       "      <td>1433</td>\n",
       "      <td>39.5</td>\n",
       "      <td>7</td>\n",
       "      <td>0</td>\n",
       "      <td>0</td>\n",
       "      <td>0</td>\n",
       "      <td>0</td>\n",
       "      <td>0</td>\n",
       "      <td>0</td>\n",
       "    </tr>\n",
       "    <tr>\n",
       "      <th>4</th>\n",
       "      <td>5</td>\n",
       "      <td>L47184</td>\n",
       "      <td>L</td>\n",
       "      <td>298.2</td>\n",
       "      <td>308.7</td>\n",
       "      <td>1408</td>\n",
       "      <td>40.0</td>\n",
       "      <td>9</td>\n",
       "      <td>0</td>\n",
       "      <td>0</td>\n",
       "      <td>0</td>\n",
       "      <td>0</td>\n",
       "      <td>0</td>\n",
       "      <td>0</td>\n",
       "    </tr>\n",
       "  </tbody>\n",
       "</table>\n",
       "</div>"
      ],
      "text/plain": [
       "   UDI Product ID Type  Air temperature [K]  Process temperature [K]  \\\n",
       "0    1     M14860    M                298.1                    308.6   \n",
       "1    2     L47181    L                298.2                    308.7   \n",
       "2    3     L47182    L                298.1                    308.5   \n",
       "3    4     L47183    L                298.2                    308.6   \n",
       "4    5     L47184    L                298.2                    308.7   \n",
       "\n",
       "   Rotational speed [rpm]  Torque [Nm]  Tool wear [min]  Machine failure  TWF  \\\n",
       "0                    1551         42.8                0                0    0   \n",
       "1                    1408         46.3                3                0    0   \n",
       "2                    1498         49.4                5                0    0   \n",
       "3                    1433         39.5                7                0    0   \n",
       "4                    1408         40.0                9                0    0   \n",
       "\n",
       "   HDF  PWF  OSF  RNF  \n",
       "0    0    0    0    0  \n",
       "1    0    0    0    0  \n",
       "2    0    0    0    0  \n",
       "3    0    0    0    0  \n",
       "4    0    0    0    0  "
      ]
     },
     "execution_count": 3,
     "metadata": {},
     "output_type": "execute_result"
    }
   ],
   "source": [
    "data.head()"
   ]
  },
  {
   "cell_type": "markdown",
   "id": "0765b03e",
   "metadata": {},
   "source": [
    "## Data Analysis"
   ]
  },
  {
   "cell_type": "code",
   "execution_count": 4,
   "id": "66d70377",
   "metadata": {},
   "outputs": [
    {
     "data": {
      "text/plain": [
       "(10000, 14)"
      ]
     },
     "execution_count": 4,
     "metadata": {},
     "output_type": "execute_result"
    }
   ],
   "source": [
    "data.shape"
   ]
  },
  {
   "cell_type": "markdown",
   "id": "4f78b74c",
   "metadata": {},
   "source": [
    "Data has 10000 data points and 13 independent and 1 dependent feature."
   ]
  },
  {
   "cell_type": "code",
   "execution_count": 5,
   "id": "43ca98f4",
   "metadata": {},
   "outputs": [
    {
     "data": {
      "text/plain": [
       "UDI                        0\n",
       "Product ID                 0\n",
       "Type                       0\n",
       "Air temperature [K]        0\n",
       "Process temperature [K]    0\n",
       "Rotational speed [rpm]     0\n",
       "Torque [Nm]                0\n",
       "Tool wear [min]            0\n",
       "Machine failure            0\n",
       "TWF                        0\n",
       "HDF                        0\n",
       "PWF                        0\n",
       "OSF                        0\n",
       "RNF                        0\n",
       "dtype: int64"
      ]
     },
     "execution_count": 5,
     "metadata": {},
     "output_type": "execute_result"
    }
   ],
   "source": [
    "data.isnull().sum()"
   ]
  },
  {
   "cell_type": "markdown",
   "id": "d5a46c5b",
   "metadata": {},
   "source": [
    "#### Data doesnot contain any null values"
   ]
  },
  {
   "cell_type": "code",
   "execution_count": 6,
   "id": "64fc33c7",
   "metadata": {},
   "outputs": [
    {
     "name": "stdout",
     "output_type": "stream",
     "text": [
      "<class 'pandas.core.frame.DataFrame'>\n",
      "RangeIndex: 10000 entries, 0 to 9999\n",
      "Data columns (total 14 columns):\n",
      " #   Column                   Non-Null Count  Dtype  \n",
      "---  ------                   --------------  -----  \n",
      " 0   UDI                      10000 non-null  int64  \n",
      " 1   Product ID               10000 non-null  object \n",
      " 2   Type                     10000 non-null  object \n",
      " 3   Air temperature [K]      10000 non-null  float64\n",
      " 4   Process temperature [K]  10000 non-null  float64\n",
      " 5   Rotational speed [rpm]   10000 non-null  int64  \n",
      " 6   Torque [Nm]              10000 non-null  float64\n",
      " 7   Tool wear [min]          10000 non-null  int64  \n",
      " 8   Machine failure          10000 non-null  int64  \n",
      " 9   TWF                      10000 non-null  int64  \n",
      " 10  HDF                      10000 non-null  int64  \n",
      " 11  PWF                      10000 non-null  int64  \n",
      " 12  OSF                      10000 non-null  int64  \n",
      " 13  RNF                      10000 non-null  int64  \n",
      "dtypes: float64(3), int64(9), object(2)\n",
      "memory usage: 1.1+ MB\n"
     ]
    }
   ],
   "source": [
    "data.info()"
   ]
  },
  {
   "cell_type": "markdown",
   "id": "c7dd6b73",
   "metadata": {},
   "source": [
    "#### All the features are numerical"
   ]
  },
  {
   "cell_type": "code",
   "execution_count": 7,
   "id": "1f9b4b3c",
   "metadata": {
    "scrolled": true
   },
   "outputs": [
    {
     "data": {
      "text/html": [
       "<div>\n",
       "<style scoped>\n",
       "    .dataframe tbody tr th:only-of-type {\n",
       "        vertical-align: middle;\n",
       "    }\n",
       "\n",
       "    .dataframe tbody tr th {\n",
       "        vertical-align: top;\n",
       "    }\n",
       "\n",
       "    .dataframe thead th {\n",
       "        text-align: right;\n",
       "    }\n",
       "</style>\n",
       "<table border=\"1\" class=\"dataframe\">\n",
       "  <thead>\n",
       "    <tr style=\"text-align: right;\">\n",
       "      <th></th>\n",
       "      <th>UDI</th>\n",
       "      <th>Air temperature [K]</th>\n",
       "      <th>Process temperature [K]</th>\n",
       "      <th>Rotational speed [rpm]</th>\n",
       "      <th>Torque [Nm]</th>\n",
       "      <th>Tool wear [min]</th>\n",
       "      <th>Machine failure</th>\n",
       "      <th>TWF</th>\n",
       "      <th>HDF</th>\n",
       "      <th>PWF</th>\n",
       "      <th>OSF</th>\n",
       "      <th>RNF</th>\n",
       "    </tr>\n",
       "  </thead>\n",
       "  <tbody>\n",
       "    <tr>\n",
       "      <th>count</th>\n",
       "      <td>10000.00000</td>\n",
       "      <td>10000.000000</td>\n",
       "      <td>10000.000000</td>\n",
       "      <td>10000.000000</td>\n",
       "      <td>10000.000000</td>\n",
       "      <td>10000.000000</td>\n",
       "      <td>10000.000000</td>\n",
       "      <td>10000.000000</td>\n",
       "      <td>10000.000000</td>\n",
       "      <td>10000.000000</td>\n",
       "      <td>10000.000000</td>\n",
       "      <td>10000.00000</td>\n",
       "    </tr>\n",
       "    <tr>\n",
       "      <th>mean</th>\n",
       "      <td>5000.50000</td>\n",
       "      <td>300.004930</td>\n",
       "      <td>310.005560</td>\n",
       "      <td>1538.776100</td>\n",
       "      <td>39.986910</td>\n",
       "      <td>107.951000</td>\n",
       "      <td>0.033900</td>\n",
       "      <td>0.004600</td>\n",
       "      <td>0.011500</td>\n",
       "      <td>0.009500</td>\n",
       "      <td>0.009800</td>\n",
       "      <td>0.00190</td>\n",
       "    </tr>\n",
       "    <tr>\n",
       "      <th>std</th>\n",
       "      <td>2886.89568</td>\n",
       "      <td>2.000259</td>\n",
       "      <td>1.483734</td>\n",
       "      <td>179.284096</td>\n",
       "      <td>9.968934</td>\n",
       "      <td>63.654147</td>\n",
       "      <td>0.180981</td>\n",
       "      <td>0.067671</td>\n",
       "      <td>0.106625</td>\n",
       "      <td>0.097009</td>\n",
       "      <td>0.098514</td>\n",
       "      <td>0.04355</td>\n",
       "    </tr>\n",
       "    <tr>\n",
       "      <th>min</th>\n",
       "      <td>1.00000</td>\n",
       "      <td>295.300000</td>\n",
       "      <td>305.700000</td>\n",
       "      <td>1168.000000</td>\n",
       "      <td>3.800000</td>\n",
       "      <td>0.000000</td>\n",
       "      <td>0.000000</td>\n",
       "      <td>0.000000</td>\n",
       "      <td>0.000000</td>\n",
       "      <td>0.000000</td>\n",
       "      <td>0.000000</td>\n",
       "      <td>0.00000</td>\n",
       "    </tr>\n",
       "    <tr>\n",
       "      <th>25%</th>\n",
       "      <td>2500.75000</td>\n",
       "      <td>298.300000</td>\n",
       "      <td>308.800000</td>\n",
       "      <td>1423.000000</td>\n",
       "      <td>33.200000</td>\n",
       "      <td>53.000000</td>\n",
       "      <td>0.000000</td>\n",
       "      <td>0.000000</td>\n",
       "      <td>0.000000</td>\n",
       "      <td>0.000000</td>\n",
       "      <td>0.000000</td>\n",
       "      <td>0.00000</td>\n",
       "    </tr>\n",
       "    <tr>\n",
       "      <th>50%</th>\n",
       "      <td>5000.50000</td>\n",
       "      <td>300.100000</td>\n",
       "      <td>310.100000</td>\n",
       "      <td>1503.000000</td>\n",
       "      <td>40.100000</td>\n",
       "      <td>108.000000</td>\n",
       "      <td>0.000000</td>\n",
       "      <td>0.000000</td>\n",
       "      <td>0.000000</td>\n",
       "      <td>0.000000</td>\n",
       "      <td>0.000000</td>\n",
       "      <td>0.00000</td>\n",
       "    </tr>\n",
       "    <tr>\n",
       "      <th>75%</th>\n",
       "      <td>7500.25000</td>\n",
       "      <td>301.500000</td>\n",
       "      <td>311.100000</td>\n",
       "      <td>1612.000000</td>\n",
       "      <td>46.800000</td>\n",
       "      <td>162.000000</td>\n",
       "      <td>0.000000</td>\n",
       "      <td>0.000000</td>\n",
       "      <td>0.000000</td>\n",
       "      <td>0.000000</td>\n",
       "      <td>0.000000</td>\n",
       "      <td>0.00000</td>\n",
       "    </tr>\n",
       "    <tr>\n",
       "      <th>max</th>\n",
       "      <td>10000.00000</td>\n",
       "      <td>304.500000</td>\n",
       "      <td>313.800000</td>\n",
       "      <td>2886.000000</td>\n",
       "      <td>76.600000</td>\n",
       "      <td>253.000000</td>\n",
       "      <td>1.000000</td>\n",
       "      <td>1.000000</td>\n",
       "      <td>1.000000</td>\n",
       "      <td>1.000000</td>\n",
       "      <td>1.000000</td>\n",
       "      <td>1.00000</td>\n",
       "    </tr>\n",
       "  </tbody>\n",
       "</table>\n",
       "</div>"
      ],
      "text/plain": [
       "               UDI  Air temperature [K]  Process temperature [K]  \\\n",
       "count  10000.00000         10000.000000             10000.000000   \n",
       "mean    5000.50000           300.004930               310.005560   \n",
       "std     2886.89568             2.000259                 1.483734   \n",
       "min        1.00000           295.300000               305.700000   \n",
       "25%     2500.75000           298.300000               308.800000   \n",
       "50%     5000.50000           300.100000               310.100000   \n",
       "75%     7500.25000           301.500000               311.100000   \n",
       "max    10000.00000           304.500000               313.800000   \n",
       "\n",
       "       Rotational speed [rpm]   Torque [Nm]  Tool wear [min]  Machine failure  \\\n",
       "count            10000.000000  10000.000000     10000.000000     10000.000000   \n",
       "mean              1538.776100     39.986910       107.951000         0.033900   \n",
       "std                179.284096      9.968934        63.654147         0.180981   \n",
       "min               1168.000000      3.800000         0.000000         0.000000   \n",
       "25%               1423.000000     33.200000        53.000000         0.000000   \n",
       "50%               1503.000000     40.100000       108.000000         0.000000   \n",
       "75%               1612.000000     46.800000       162.000000         0.000000   \n",
       "max               2886.000000     76.600000       253.000000         1.000000   \n",
       "\n",
       "                TWF           HDF           PWF           OSF          RNF  \n",
       "count  10000.000000  10000.000000  10000.000000  10000.000000  10000.00000  \n",
       "mean       0.004600      0.011500      0.009500      0.009800      0.00190  \n",
       "std        0.067671      0.106625      0.097009      0.098514      0.04355  \n",
       "min        0.000000      0.000000      0.000000      0.000000      0.00000  \n",
       "25%        0.000000      0.000000      0.000000      0.000000      0.00000  \n",
       "50%        0.000000      0.000000      0.000000      0.000000      0.00000  \n",
       "75%        0.000000      0.000000      0.000000      0.000000      0.00000  \n",
       "max        1.000000      1.000000      1.000000      1.000000      1.00000  "
      ]
     },
     "execution_count": 7,
     "metadata": {},
     "output_type": "execute_result"
    }
   ],
   "source": [
    "data.describe()"
   ]
  },
  {
   "cell_type": "code",
   "execution_count": 8,
   "id": "44dc47d3",
   "metadata": {
    "scrolled": true
   },
   "outputs": [
    {
     "data": {
      "text/html": [
       "<div>\n",
       "<style scoped>\n",
       "    .dataframe tbody tr th:only-of-type {\n",
       "        vertical-align: middle;\n",
       "    }\n",
       "\n",
       "    .dataframe tbody tr th {\n",
       "        vertical-align: top;\n",
       "    }\n",
       "\n",
       "    .dataframe thead th {\n",
       "        text-align: right;\n",
       "    }\n",
       "</style>\n",
       "<table border=\"1\" class=\"dataframe\">\n",
       "  <thead>\n",
       "    <tr style=\"text-align: right;\">\n",
       "      <th></th>\n",
       "      <th>UDI</th>\n",
       "      <th>Air temperature [K]</th>\n",
       "      <th>Process temperature [K]</th>\n",
       "      <th>Rotational speed [rpm]</th>\n",
       "      <th>Torque [Nm]</th>\n",
       "      <th>Tool wear [min]</th>\n",
       "      <th>Machine failure</th>\n",
       "      <th>TWF</th>\n",
       "      <th>HDF</th>\n",
       "      <th>PWF</th>\n",
       "      <th>OSF</th>\n",
       "      <th>RNF</th>\n",
       "    </tr>\n",
       "  </thead>\n",
       "  <tbody>\n",
       "    <tr>\n",
       "      <th>UDI</th>\n",
       "      <td>1.000000</td>\n",
       "      <td>0.117428</td>\n",
       "      <td>0.324428</td>\n",
       "      <td>-0.006615</td>\n",
       "      <td>0.003207</td>\n",
       "      <td>-0.010702</td>\n",
       "      <td>-0.022892</td>\n",
       "      <td>0.009154</td>\n",
       "      <td>-0.022215</td>\n",
       "      <td>-0.023557</td>\n",
       "      <td>-0.000990</td>\n",
       "      <td>-0.005954</td>\n",
       "    </tr>\n",
       "    <tr>\n",
       "      <th>Air temperature [K]</th>\n",
       "      <td>0.117428</td>\n",
       "      <td>1.000000</td>\n",
       "      <td>0.876107</td>\n",
       "      <td>0.022670</td>\n",
       "      <td>-0.013778</td>\n",
       "      <td>0.013853</td>\n",
       "      <td>0.082556</td>\n",
       "      <td>0.009955</td>\n",
       "      <td>0.137831</td>\n",
       "      <td>0.003470</td>\n",
       "      <td>0.001988</td>\n",
       "      <td>0.017688</td>\n",
       "    </tr>\n",
       "    <tr>\n",
       "      <th>Process temperature [K]</th>\n",
       "      <td>0.324428</td>\n",
       "      <td>0.876107</td>\n",
       "      <td>1.000000</td>\n",
       "      <td>0.019277</td>\n",
       "      <td>-0.014061</td>\n",
       "      <td>0.013488</td>\n",
       "      <td>0.035946</td>\n",
       "      <td>0.007315</td>\n",
       "      <td>0.056933</td>\n",
       "      <td>-0.003355</td>\n",
       "      <td>0.004554</td>\n",
       "      <td>0.022279</td>\n",
       "    </tr>\n",
       "    <tr>\n",
       "      <th>Rotational speed [rpm]</th>\n",
       "      <td>-0.006615</td>\n",
       "      <td>0.022670</td>\n",
       "      <td>0.019277</td>\n",
       "      <td>1.000000</td>\n",
       "      <td>-0.875027</td>\n",
       "      <td>0.000223</td>\n",
       "      <td>-0.044188</td>\n",
       "      <td>0.010389</td>\n",
       "      <td>-0.121241</td>\n",
       "      <td>0.123018</td>\n",
       "      <td>-0.104575</td>\n",
       "      <td>-0.013088</td>\n",
       "    </tr>\n",
       "    <tr>\n",
       "      <th>Torque [Nm]</th>\n",
       "      <td>0.003207</td>\n",
       "      <td>-0.013778</td>\n",
       "      <td>-0.014061</td>\n",
       "      <td>-0.875027</td>\n",
       "      <td>1.000000</td>\n",
       "      <td>-0.003093</td>\n",
       "      <td>0.191321</td>\n",
       "      <td>-0.014662</td>\n",
       "      <td>0.142610</td>\n",
       "      <td>0.083781</td>\n",
       "      <td>0.183465</td>\n",
       "      <td>0.016136</td>\n",
       "    </tr>\n",
       "    <tr>\n",
       "      <th>Tool wear [min]</th>\n",
       "      <td>-0.010702</td>\n",
       "      <td>0.013853</td>\n",
       "      <td>0.013488</td>\n",
       "      <td>0.000223</td>\n",
       "      <td>-0.003093</td>\n",
       "      <td>1.000000</td>\n",
       "      <td>0.105448</td>\n",
       "      <td>0.115792</td>\n",
       "      <td>-0.001287</td>\n",
       "      <td>-0.009334</td>\n",
       "      <td>0.155894</td>\n",
       "      <td>0.011326</td>\n",
       "    </tr>\n",
       "    <tr>\n",
       "      <th>Machine failure</th>\n",
       "      <td>-0.022892</td>\n",
       "      <td>0.082556</td>\n",
       "      <td>0.035946</td>\n",
       "      <td>-0.044188</td>\n",
       "      <td>0.191321</td>\n",
       "      <td>0.105448</td>\n",
       "      <td>1.000000</td>\n",
       "      <td>0.362904</td>\n",
       "      <td>0.575800</td>\n",
       "      <td>0.522812</td>\n",
       "      <td>0.531083</td>\n",
       "      <td>0.004516</td>\n",
       "    </tr>\n",
       "    <tr>\n",
       "      <th>TWF</th>\n",
       "      <td>0.009154</td>\n",
       "      <td>0.009955</td>\n",
       "      <td>0.007315</td>\n",
       "      <td>0.010389</td>\n",
       "      <td>-0.014662</td>\n",
       "      <td>0.115792</td>\n",
       "      <td>0.362904</td>\n",
       "      <td>1.000000</td>\n",
       "      <td>-0.007332</td>\n",
       "      <td>0.008577</td>\n",
       "      <td>0.038243</td>\n",
       "      <td>0.030970</td>\n",
       "    </tr>\n",
       "    <tr>\n",
       "      <th>HDF</th>\n",
       "      <td>-0.022215</td>\n",
       "      <td>0.137831</td>\n",
       "      <td>0.056933</td>\n",
       "      <td>-0.121241</td>\n",
       "      <td>0.142610</td>\n",
       "      <td>-0.001287</td>\n",
       "      <td>0.575800</td>\n",
       "      <td>-0.007332</td>\n",
       "      <td>1.000000</td>\n",
       "      <td>0.018443</td>\n",
       "      <td>0.046396</td>\n",
       "      <td>-0.004706</td>\n",
       "    </tr>\n",
       "    <tr>\n",
       "      <th>PWF</th>\n",
       "      <td>-0.023557</td>\n",
       "      <td>0.003470</td>\n",
       "      <td>-0.003355</td>\n",
       "      <td>0.123018</td>\n",
       "      <td>0.083781</td>\n",
       "      <td>-0.009334</td>\n",
       "      <td>0.522812</td>\n",
       "      <td>0.008577</td>\n",
       "      <td>0.018443</td>\n",
       "      <td>1.000000</td>\n",
       "      <td>0.115836</td>\n",
       "      <td>-0.004273</td>\n",
       "    </tr>\n",
       "    <tr>\n",
       "      <th>OSF</th>\n",
       "      <td>-0.000990</td>\n",
       "      <td>0.001988</td>\n",
       "      <td>0.004554</td>\n",
       "      <td>-0.104575</td>\n",
       "      <td>0.183465</td>\n",
       "      <td>0.155894</td>\n",
       "      <td>0.531083</td>\n",
       "      <td>0.038243</td>\n",
       "      <td>0.046396</td>\n",
       "      <td>0.115836</td>\n",
       "      <td>1.000000</td>\n",
       "      <td>-0.004341</td>\n",
       "    </tr>\n",
       "    <tr>\n",
       "      <th>RNF</th>\n",
       "      <td>-0.005954</td>\n",
       "      <td>0.017688</td>\n",
       "      <td>0.022279</td>\n",
       "      <td>-0.013088</td>\n",
       "      <td>0.016136</td>\n",
       "      <td>0.011326</td>\n",
       "      <td>0.004516</td>\n",
       "      <td>0.030970</td>\n",
       "      <td>-0.004706</td>\n",
       "      <td>-0.004273</td>\n",
       "      <td>-0.004341</td>\n",
       "      <td>1.000000</td>\n",
       "    </tr>\n",
       "  </tbody>\n",
       "</table>\n",
       "</div>"
      ],
      "text/plain": [
       "                              UDI  Air temperature [K]  \\\n",
       "UDI                      1.000000             0.117428   \n",
       "Air temperature [K]      0.117428             1.000000   \n",
       "Process temperature [K]  0.324428             0.876107   \n",
       "Rotational speed [rpm]  -0.006615             0.022670   \n",
       "Torque [Nm]              0.003207            -0.013778   \n",
       "Tool wear [min]         -0.010702             0.013853   \n",
       "Machine failure         -0.022892             0.082556   \n",
       "TWF                      0.009154             0.009955   \n",
       "HDF                     -0.022215             0.137831   \n",
       "PWF                     -0.023557             0.003470   \n",
       "OSF                     -0.000990             0.001988   \n",
       "RNF                     -0.005954             0.017688   \n",
       "\n",
       "                         Process temperature [K]  Rotational speed [rpm]  \\\n",
       "UDI                                     0.324428               -0.006615   \n",
       "Air temperature [K]                     0.876107                0.022670   \n",
       "Process temperature [K]                 1.000000                0.019277   \n",
       "Rotational speed [rpm]                  0.019277                1.000000   \n",
       "Torque [Nm]                            -0.014061               -0.875027   \n",
       "Tool wear [min]                         0.013488                0.000223   \n",
       "Machine failure                         0.035946               -0.044188   \n",
       "TWF                                     0.007315                0.010389   \n",
       "HDF                                     0.056933               -0.121241   \n",
       "PWF                                    -0.003355                0.123018   \n",
       "OSF                                     0.004554               -0.104575   \n",
       "RNF                                     0.022279               -0.013088   \n",
       "\n",
       "                         Torque [Nm]  Tool wear [min]  Machine failure  \\\n",
       "UDI                         0.003207        -0.010702        -0.022892   \n",
       "Air temperature [K]        -0.013778         0.013853         0.082556   \n",
       "Process temperature [K]    -0.014061         0.013488         0.035946   \n",
       "Rotational speed [rpm]     -0.875027         0.000223        -0.044188   \n",
       "Torque [Nm]                 1.000000        -0.003093         0.191321   \n",
       "Tool wear [min]            -0.003093         1.000000         0.105448   \n",
       "Machine failure             0.191321         0.105448         1.000000   \n",
       "TWF                        -0.014662         0.115792         0.362904   \n",
       "HDF                         0.142610        -0.001287         0.575800   \n",
       "PWF                         0.083781        -0.009334         0.522812   \n",
       "OSF                         0.183465         0.155894         0.531083   \n",
       "RNF                         0.016136         0.011326         0.004516   \n",
       "\n",
       "                              TWF       HDF       PWF       OSF       RNF  \n",
       "UDI                      0.009154 -0.022215 -0.023557 -0.000990 -0.005954  \n",
       "Air temperature [K]      0.009955  0.137831  0.003470  0.001988  0.017688  \n",
       "Process temperature [K]  0.007315  0.056933 -0.003355  0.004554  0.022279  \n",
       "Rotational speed [rpm]   0.010389 -0.121241  0.123018 -0.104575 -0.013088  \n",
       "Torque [Nm]             -0.014662  0.142610  0.083781  0.183465  0.016136  \n",
       "Tool wear [min]          0.115792 -0.001287 -0.009334  0.155894  0.011326  \n",
       "Machine failure          0.362904  0.575800  0.522812  0.531083  0.004516  \n",
       "TWF                      1.000000 -0.007332  0.008577  0.038243  0.030970  \n",
       "HDF                     -0.007332  1.000000  0.018443  0.046396 -0.004706  \n",
       "PWF                      0.008577  0.018443  1.000000  0.115836 -0.004273  \n",
       "OSF                      0.038243  0.046396  0.115836  1.000000 -0.004341  \n",
       "RNF                      0.030970 -0.004706 -0.004273 -0.004341  1.000000  "
      ]
     },
     "execution_count": 8,
     "metadata": {},
     "output_type": "execute_result"
    }
   ],
   "source": [
    "data.corr()"
   ]
  },
  {
   "cell_type": "markdown",
   "id": "74c26516",
   "metadata": {},
   "source": [
    "Process temperature is highly correlated with the dependent feature(Air Temperature)"
   ]
  },
  {
   "cell_type": "markdown",
   "id": "44118433",
   "metadata": {},
   "source": [
    "Heat Dissipation Failure, Power Failure and Overstrain Failure corresponds to Machine Failure."
   ]
  },
  {
   "cell_type": "code",
   "execution_count": 9,
   "id": "2797ff52",
   "metadata": {},
   "outputs": [
    {
     "data": {
      "text/plain": [
       "0    9954\n",
       "1      46\n",
       "Name: TWF, dtype: int64"
      ]
     },
     "execution_count": 9,
     "metadata": {},
     "output_type": "execute_result"
    }
   ],
   "source": [
    "data['TWF'].value_counts()"
   ]
  },
  {
   "cell_type": "markdown",
   "id": "2ea3876c",
   "metadata": {},
   "source": [
    "Tool Wear Failure has occured 46 times out of 10000 times i.e 0.46% times."
   ]
  },
  {
   "cell_type": "code",
   "execution_count": 10,
   "id": "1e9862d5",
   "metadata": {},
   "outputs": [
    {
     "data": {
      "text/plain": [
       "0    9885\n",
       "1     115\n",
       "Name: HDF, dtype: int64"
      ]
     },
     "execution_count": 10,
     "metadata": {},
     "output_type": "execute_result"
    }
   ],
   "source": [
    "data['HDF'].value_counts()"
   ]
  },
  {
   "cell_type": "markdown",
   "id": "ef65f8aa",
   "metadata": {},
   "source": [
    "Heat Dissipation Failure has occured 115 times out of 10000 times i.e 1.15% times."
   ]
  },
  {
   "cell_type": "code",
   "execution_count": 11,
   "id": "447fb055",
   "metadata": {},
   "outputs": [
    {
     "data": {
      "text/plain": [
       "0    9905\n",
       "1      95\n",
       "Name: PWF, dtype: int64"
      ]
     },
     "execution_count": 11,
     "metadata": {},
     "output_type": "execute_result"
    }
   ],
   "source": [
    "data['PWF'].value_counts()"
   ]
  },
  {
   "cell_type": "markdown",
   "id": "e35cc7bf",
   "metadata": {},
   "source": [
    "Power Failure has occured 95 times out of 10000 times i.e 0.95% times."
   ]
  },
  {
   "cell_type": "code",
   "execution_count": 12,
   "id": "db8b0ae2",
   "metadata": {},
   "outputs": [
    {
     "data": {
      "text/plain": [
       "0    9902\n",
       "1      98\n",
       "Name: OSF, dtype: int64"
      ]
     },
     "execution_count": 12,
     "metadata": {},
     "output_type": "execute_result"
    }
   ],
   "source": [
    "data['OSF'].value_counts()"
   ]
  },
  {
   "cell_type": "markdown",
   "id": "540cf31b",
   "metadata": {},
   "source": [
    "OverStrain Failure has occured 98 times out of 10000 times i.e 0.98% times."
   ]
  },
  {
   "cell_type": "code",
   "execution_count": 13,
   "id": "b3844698",
   "metadata": {},
   "outputs": [
    {
     "data": {
      "text/plain": [
       "0    9981\n",
       "1      19\n",
       "Name: RNF, dtype: int64"
      ]
     },
     "execution_count": 13,
     "metadata": {},
     "output_type": "execute_result"
    }
   ],
   "source": [
    "data['RNF'].value_counts()"
   ]
  },
  {
   "cell_type": "markdown",
   "id": "64fcec39",
   "metadata": {},
   "source": [
    "Random Failure has occured 19 times out of 10000 times i.e 0.19% times."
   ]
  },
  {
   "cell_type": "code",
   "execution_count": 14,
   "id": "b818b26a",
   "metadata": {},
   "outputs": [
    {
     "data": {
      "text/plain": [
       "L    6000\n",
       "M    2997\n",
       "H    1003\n",
       "Name: Type, dtype: int64"
      ]
     },
     "execution_count": 14,
     "metadata": {},
     "output_type": "execute_result"
    }
   ],
   "source": [
    "data['Type'].value_counts()"
   ]
  },
  {
   "cell_type": "markdown",
   "id": "f052b5a6",
   "metadata": {},
   "source": [
    "Around 60%, 30% and 10% of the vehicles in the data belongs to Low, Medium and High variants."
   ]
  },
  {
   "cell_type": "markdown",
   "id": "fce61d7d",
   "metadata": {},
   "source": [
    "## Exploratory Data Analysis"
   ]
  },
  {
   "cell_type": "code",
   "execution_count": 15,
   "id": "7122c382",
   "metadata": {},
   "outputs": [
    {
     "data": {
      "application/vnd.jupyter.widget-view+json": {
       "model_id": "be8bc1d1fb144c22937434121fad8a61",
       "version_major": 2,
       "version_minor": 0
      },
      "text/plain": [
       "Summarize dataset:   0%|          | 0/5 [00:00<?, ?it/s]"
      ]
     },
     "metadata": {},
     "output_type": "display_data"
    },
    {
     "data": {
      "application/vnd.jupyter.widget-view+json": {
       "model_id": "99b3ab65b423443194e527aecf8e283d",
       "version_major": 2,
       "version_minor": 0
      },
      "text/plain": [
       "Generate report structure:   0%|          | 0/1 [00:00<?, ?it/s]"
      ]
     },
     "metadata": {},
     "output_type": "display_data"
    },
    {
     "data": {
      "application/vnd.jupyter.widget-view+json": {
       "model_id": "",
       "version_major": 2,
       "version_minor": 0
      },
      "text/plain": [
       "Render widgets:   0%|          | 0/1 [00:00<?, ?it/s]"
      ]
     },
     "metadata": {},
     "output_type": "display_data"
    },
    {
     "data": {
      "application/vnd.jupyter.widget-view+json": {
       "model_id": "466fe9490fef4e22bad2871e39d3e969",
       "version_major": 2,
       "version_minor": 0
      },
      "text/plain": [
       "VBox(children=(Tab(children=(Tab(children=(GridBox(children=(VBox(children=(GridspecLayout(children=(HTML(valu…"
      ]
     },
     "metadata": {},
     "output_type": "display_data"
    }
   ],
   "source": [
    "df = ProfileReport(data)\n",
    "df.to_widgets()"
   ]
  },
  {
   "cell_type": "code",
   "execution_count": 16,
   "id": "02a34759",
   "metadata": {},
   "outputs": [
    {
     "data": {
      "application/vnd.jupyter.widget-view+json": {
       "model_id": "844e195eebe04e3ba8908ddeeef5acfc",
       "version_major": 2,
       "version_minor": 0
      },
      "text/plain": [
       "Render HTML:   0%|          | 0/1 [00:00<?, ?it/s]"
      ]
     },
     "metadata": {},
     "output_type": "display_data"
    },
    {
     "data": {
      "application/vnd.jupyter.widget-view+json": {
       "model_id": "c984e8a7919242fc9d9b88b63fd1874b",
       "version_major": 2,
       "version_minor": 0
      },
      "text/plain": [
       "Export report to file:   0%|          | 0/1 [00:00<?, ?it/s]"
      ]
     },
     "metadata": {},
     "output_type": "display_data"
    }
   ],
   "source": [
    "df.to_file('report.html')"
   ]
  },
  {
   "cell_type": "markdown",
   "id": "37c110ae",
   "metadata": {},
   "source": [
    "There is very little multi collinearity among the independent features"
   ]
  },
  {
   "cell_type": "markdown",
   "id": "7aced24c",
   "metadata": {},
   "source": [
    "## Data Preprocessing"
   ]
  },
  {
   "cell_type": "code",
   "execution_count": 17,
   "id": "75c9da8c",
   "metadata": {},
   "outputs": [],
   "source": [
    "data = pd.get_dummies(data, columns = ['Type'])"
   ]
  },
  {
   "cell_type": "code",
   "execution_count": 18,
   "id": "4e550f83",
   "metadata": {},
   "outputs": [
    {
     "data": {
      "text/plain": [
       "StandardScaler()"
      ]
     },
     "execution_count": 18,
     "metadata": {},
     "output_type": "execute_result"
    }
   ],
   "source": [
    "from sklearn.preprocessing import StandardScaler\n",
    "scaler = StandardScaler()\n",
    "scale_columns = ['Process temperature [K]', 'Rotational speed [rpm]', 'Torque [Nm]', 'Tool wear [min]']\n",
    "scaler.fit(data[scale_columns])"
   ]
  },
  {
   "cell_type": "code",
   "execution_count": 19,
   "id": "7bae579b",
   "metadata": {},
   "outputs": [],
   "source": [
    "data[scale_columns] = scaler.transform(data[scale_columns])"
   ]
  },
  {
   "cell_type": "code",
   "execution_count": 20,
   "id": "c08089c8",
   "metadata": {},
   "outputs": [
    {
     "data": {
      "text/html": [
       "<div>\n",
       "<style scoped>\n",
       "    .dataframe tbody tr th:only-of-type {\n",
       "        vertical-align: middle;\n",
       "    }\n",
       "\n",
       "    .dataframe tbody tr th {\n",
       "        vertical-align: top;\n",
       "    }\n",
       "\n",
       "    .dataframe thead th {\n",
       "        text-align: right;\n",
       "    }\n",
       "</style>\n",
       "<table border=\"1\" class=\"dataframe\">\n",
       "  <thead>\n",
       "    <tr style=\"text-align: right;\">\n",
       "      <th></th>\n",
       "      <th>UDI</th>\n",
       "      <th>Product ID</th>\n",
       "      <th>Air temperature [K]</th>\n",
       "      <th>Process temperature [K]</th>\n",
       "      <th>Rotational speed [rpm]</th>\n",
       "      <th>Torque [Nm]</th>\n",
       "      <th>Tool wear [min]</th>\n",
       "      <th>Machine failure</th>\n",
       "      <th>TWF</th>\n",
       "      <th>HDF</th>\n",
       "      <th>PWF</th>\n",
       "      <th>OSF</th>\n",
       "      <th>RNF</th>\n",
       "      <th>Type_H</th>\n",
       "      <th>Type_L</th>\n",
       "      <th>Type_M</th>\n",
       "    </tr>\n",
       "  </thead>\n",
       "  <tbody>\n",
       "    <tr>\n",
       "      <th>0</th>\n",
       "      <td>1</td>\n",
       "      <td>M14860</td>\n",
       "      <td>298.1</td>\n",
       "      <td>-0.947360</td>\n",
       "      <td>0.068185</td>\n",
       "      <td>0.282200</td>\n",
       "      <td>-1.695984</td>\n",
       "      <td>0</td>\n",
       "      <td>0</td>\n",
       "      <td>0</td>\n",
       "      <td>0</td>\n",
       "      <td>0</td>\n",
       "      <td>0</td>\n",
       "      <td>0</td>\n",
       "      <td>0</td>\n",
       "      <td>1</td>\n",
       "    </tr>\n",
       "    <tr>\n",
       "      <th>1</th>\n",
       "      <td>2</td>\n",
       "      <td>L47181</td>\n",
       "      <td>298.2</td>\n",
       "      <td>-0.879959</td>\n",
       "      <td>-0.729472</td>\n",
       "      <td>0.633308</td>\n",
       "      <td>-1.648852</td>\n",
       "      <td>0</td>\n",
       "      <td>0</td>\n",
       "      <td>0</td>\n",
       "      <td>0</td>\n",
       "      <td>0</td>\n",
       "      <td>0</td>\n",
       "      <td>0</td>\n",
       "      <td>1</td>\n",
       "      <td>0</td>\n",
       "    </tr>\n",
       "    <tr>\n",
       "      <th>2</th>\n",
       "      <td>3</td>\n",
       "      <td>L47182</td>\n",
       "      <td>298.1</td>\n",
       "      <td>-1.014761</td>\n",
       "      <td>-0.227450</td>\n",
       "      <td>0.944290</td>\n",
       "      <td>-1.617430</td>\n",
       "      <td>0</td>\n",
       "      <td>0</td>\n",
       "      <td>0</td>\n",
       "      <td>0</td>\n",
       "      <td>0</td>\n",
       "      <td>0</td>\n",
       "      <td>0</td>\n",
       "      <td>1</td>\n",
       "      <td>0</td>\n",
       "    </tr>\n",
       "    <tr>\n",
       "      <th>3</th>\n",
       "      <td>4</td>\n",
       "      <td>L47183</td>\n",
       "      <td>298.2</td>\n",
       "      <td>-0.947360</td>\n",
       "      <td>-0.590021</td>\n",
       "      <td>-0.048845</td>\n",
       "      <td>-1.586009</td>\n",
       "      <td>0</td>\n",
       "      <td>0</td>\n",
       "      <td>0</td>\n",
       "      <td>0</td>\n",
       "      <td>0</td>\n",
       "      <td>0</td>\n",
       "      <td>0</td>\n",
       "      <td>1</td>\n",
       "      <td>0</td>\n",
       "    </tr>\n",
       "    <tr>\n",
       "      <th>4</th>\n",
       "      <td>5</td>\n",
       "      <td>L47184</td>\n",
       "      <td>298.2</td>\n",
       "      <td>-0.879959</td>\n",
       "      <td>-0.729472</td>\n",
       "      <td>0.001313</td>\n",
       "      <td>-1.554588</td>\n",
       "      <td>0</td>\n",
       "      <td>0</td>\n",
       "      <td>0</td>\n",
       "      <td>0</td>\n",
       "      <td>0</td>\n",
       "      <td>0</td>\n",
       "      <td>0</td>\n",
       "      <td>1</td>\n",
       "      <td>0</td>\n",
       "    </tr>\n",
       "  </tbody>\n",
       "</table>\n",
       "</div>"
      ],
      "text/plain": [
       "   UDI Product ID  Air temperature [K]  Process temperature [K]  \\\n",
       "0    1     M14860                298.1                -0.947360   \n",
       "1    2     L47181                298.2                -0.879959   \n",
       "2    3     L47182                298.1                -1.014761   \n",
       "3    4     L47183                298.2                -0.947360   \n",
       "4    5     L47184                298.2                -0.879959   \n",
       "\n",
       "   Rotational speed [rpm]  Torque [Nm]  Tool wear [min]  Machine failure  TWF  \\\n",
       "0                0.068185     0.282200        -1.695984                0    0   \n",
       "1               -0.729472     0.633308        -1.648852                0    0   \n",
       "2               -0.227450     0.944290        -1.617430                0    0   \n",
       "3               -0.590021    -0.048845        -1.586009                0    0   \n",
       "4               -0.729472     0.001313        -1.554588                0    0   \n",
       "\n",
       "   HDF  PWF  OSF  RNF  Type_H  Type_L  Type_M  \n",
       "0    0    0    0    0       0       0       1  \n",
       "1    0    0    0    0       0       1       0  \n",
       "2    0    0    0    0       0       1       0  \n",
       "3    0    0    0    0       0       1       0  \n",
       "4    0    0    0    0       0       1       0  "
      ]
     },
     "execution_count": 20,
     "metadata": {},
     "output_type": "execute_result"
    }
   ],
   "source": [
    "data.head()"
   ]
  },
  {
   "cell_type": "code",
   "execution_count": 21,
   "id": "e3a6d550",
   "metadata": {},
   "outputs": [],
   "source": [
    "data = data.drop(['UDI','Product ID'], axis = 1)"
   ]
  },
  {
   "cell_type": "code",
   "execution_count": 23,
   "id": "03e78bc4",
   "metadata": {},
   "outputs": [
    {
     "data": {
      "text/html": [
       "<div>\n",
       "<style scoped>\n",
       "    .dataframe tbody tr th:only-of-type {\n",
       "        vertical-align: middle;\n",
       "    }\n",
       "\n",
       "    .dataframe tbody tr th {\n",
       "        vertical-align: top;\n",
       "    }\n",
       "\n",
       "    .dataframe thead th {\n",
       "        text-align: right;\n",
       "    }\n",
       "</style>\n",
       "<table border=\"1\" class=\"dataframe\">\n",
       "  <thead>\n",
       "    <tr style=\"text-align: right;\">\n",
       "      <th></th>\n",
       "      <th>Air temperature [K]</th>\n",
       "      <th>Process temperature [K]</th>\n",
       "      <th>Rotational speed [rpm]</th>\n",
       "      <th>Torque [Nm]</th>\n",
       "      <th>Tool wear [min]</th>\n",
       "      <th>Machine failure</th>\n",
       "      <th>TWF</th>\n",
       "      <th>HDF</th>\n",
       "      <th>PWF</th>\n",
       "      <th>OSF</th>\n",
       "      <th>RNF</th>\n",
       "      <th>Type_H</th>\n",
       "      <th>Type_L</th>\n",
       "      <th>Type_M</th>\n",
       "    </tr>\n",
       "  </thead>\n",
       "  <tbody>\n",
       "    <tr>\n",
       "      <th>0</th>\n",
       "      <td>298.1</td>\n",
       "      <td>-0.947360</td>\n",
       "      <td>0.068185</td>\n",
       "      <td>0.282200</td>\n",
       "      <td>-1.695984</td>\n",
       "      <td>0</td>\n",
       "      <td>0</td>\n",
       "      <td>0</td>\n",
       "      <td>0</td>\n",
       "      <td>0</td>\n",
       "      <td>0</td>\n",
       "      <td>0</td>\n",
       "      <td>0</td>\n",
       "      <td>1</td>\n",
       "    </tr>\n",
       "    <tr>\n",
       "      <th>1</th>\n",
       "      <td>298.2</td>\n",
       "      <td>-0.879959</td>\n",
       "      <td>-0.729472</td>\n",
       "      <td>0.633308</td>\n",
       "      <td>-1.648852</td>\n",
       "      <td>0</td>\n",
       "      <td>0</td>\n",
       "      <td>0</td>\n",
       "      <td>0</td>\n",
       "      <td>0</td>\n",
       "      <td>0</td>\n",
       "      <td>0</td>\n",
       "      <td>1</td>\n",
       "      <td>0</td>\n",
       "    </tr>\n",
       "    <tr>\n",
       "      <th>2</th>\n",
       "      <td>298.1</td>\n",
       "      <td>-1.014761</td>\n",
       "      <td>-0.227450</td>\n",
       "      <td>0.944290</td>\n",
       "      <td>-1.617430</td>\n",
       "      <td>0</td>\n",
       "      <td>0</td>\n",
       "      <td>0</td>\n",
       "      <td>0</td>\n",
       "      <td>0</td>\n",
       "      <td>0</td>\n",
       "      <td>0</td>\n",
       "      <td>1</td>\n",
       "      <td>0</td>\n",
       "    </tr>\n",
       "    <tr>\n",
       "      <th>3</th>\n",
       "      <td>298.2</td>\n",
       "      <td>-0.947360</td>\n",
       "      <td>-0.590021</td>\n",
       "      <td>-0.048845</td>\n",
       "      <td>-1.586009</td>\n",
       "      <td>0</td>\n",
       "      <td>0</td>\n",
       "      <td>0</td>\n",
       "      <td>0</td>\n",
       "      <td>0</td>\n",
       "      <td>0</td>\n",
       "      <td>0</td>\n",
       "      <td>1</td>\n",
       "      <td>0</td>\n",
       "    </tr>\n",
       "    <tr>\n",
       "      <th>4</th>\n",
       "      <td>298.2</td>\n",
       "      <td>-0.879959</td>\n",
       "      <td>-0.729472</td>\n",
       "      <td>0.001313</td>\n",
       "      <td>-1.554588</td>\n",
       "      <td>0</td>\n",
       "      <td>0</td>\n",
       "      <td>0</td>\n",
       "      <td>0</td>\n",
       "      <td>0</td>\n",
       "      <td>0</td>\n",
       "      <td>0</td>\n",
       "      <td>1</td>\n",
       "      <td>0</td>\n",
       "    </tr>\n",
       "  </tbody>\n",
       "</table>\n",
       "</div>"
      ],
      "text/plain": [
       "   Air temperature [K]  Process temperature [K]  Rotational speed [rpm]  \\\n",
       "0                298.1                -0.947360                0.068185   \n",
       "1                298.2                -0.879959               -0.729472   \n",
       "2                298.1                -1.014761               -0.227450   \n",
       "3                298.2                -0.947360               -0.590021   \n",
       "4                298.2                -0.879959               -0.729472   \n",
       "\n",
       "   Torque [Nm]  Tool wear [min]  Machine failure  TWF  HDF  PWF  OSF  RNF  \\\n",
       "0     0.282200        -1.695984                0    0    0    0    0    0   \n",
       "1     0.633308        -1.648852                0    0    0    0    0    0   \n",
       "2     0.944290        -1.617430                0    0    0    0    0    0   \n",
       "3    -0.048845        -1.586009                0    0    0    0    0    0   \n",
       "4     0.001313        -1.554588                0    0    0    0    0    0   \n",
       "\n",
       "   Type_H  Type_L  Type_M  \n",
       "0       0       0       1  \n",
       "1       0       1       0  \n",
       "2       0       1       0  \n",
       "3       0       1       0  \n",
       "4       0       1       0  "
      ]
     },
     "execution_count": 23,
     "metadata": {},
     "output_type": "execute_result"
    }
   ],
   "source": [
    "data.head()"
   ]
  },
  {
   "cell_type": "markdown",
   "id": "07a610bb",
   "metadata": {},
   "source": [
    "## Train-Test Split"
   ]
  },
  {
   "cell_type": "code",
   "execution_count": 24,
   "id": "6ea7e0c7",
   "metadata": {},
   "outputs": [],
   "source": [
    "y = data['Air temperature [K]']\n",
    "X = data.drop(['Air temperature [K]'], axis = 1)"
   ]
  },
  {
   "cell_type": "code",
   "execution_count": 25,
   "id": "34cee5ce",
   "metadata": {},
   "outputs": [
    {
     "data": {
      "text/html": [
       "<div>\n",
       "<style scoped>\n",
       "    .dataframe tbody tr th:only-of-type {\n",
       "        vertical-align: middle;\n",
       "    }\n",
       "\n",
       "    .dataframe tbody tr th {\n",
       "        vertical-align: top;\n",
       "    }\n",
       "\n",
       "    .dataframe thead th {\n",
       "        text-align: right;\n",
       "    }\n",
       "</style>\n",
       "<table border=\"1\" class=\"dataframe\">\n",
       "  <thead>\n",
       "    <tr style=\"text-align: right;\">\n",
       "      <th></th>\n",
       "      <th>Process temperature [K]</th>\n",
       "      <th>Rotational speed [rpm]</th>\n",
       "      <th>Torque [Nm]</th>\n",
       "      <th>Tool wear [min]</th>\n",
       "      <th>Machine failure</th>\n",
       "      <th>TWF</th>\n",
       "      <th>HDF</th>\n",
       "      <th>PWF</th>\n",
       "      <th>OSF</th>\n",
       "      <th>RNF</th>\n",
       "      <th>Type_H</th>\n",
       "      <th>Type_L</th>\n",
       "      <th>Type_M</th>\n",
       "    </tr>\n",
       "  </thead>\n",
       "  <tbody>\n",
       "    <tr>\n",
       "      <th>0</th>\n",
       "      <td>-0.947360</td>\n",
       "      <td>0.068185</td>\n",
       "      <td>0.282200</td>\n",
       "      <td>-1.695984</td>\n",
       "      <td>0</td>\n",
       "      <td>0</td>\n",
       "      <td>0</td>\n",
       "      <td>0</td>\n",
       "      <td>0</td>\n",
       "      <td>0</td>\n",
       "      <td>0</td>\n",
       "      <td>0</td>\n",
       "      <td>1</td>\n",
       "    </tr>\n",
       "    <tr>\n",
       "      <th>1</th>\n",
       "      <td>-0.879959</td>\n",
       "      <td>-0.729472</td>\n",
       "      <td>0.633308</td>\n",
       "      <td>-1.648852</td>\n",
       "      <td>0</td>\n",
       "      <td>0</td>\n",
       "      <td>0</td>\n",
       "      <td>0</td>\n",
       "      <td>0</td>\n",
       "      <td>0</td>\n",
       "      <td>0</td>\n",
       "      <td>1</td>\n",
       "      <td>0</td>\n",
       "    </tr>\n",
       "    <tr>\n",
       "      <th>2</th>\n",
       "      <td>-1.014761</td>\n",
       "      <td>-0.227450</td>\n",
       "      <td>0.944290</td>\n",
       "      <td>-1.617430</td>\n",
       "      <td>0</td>\n",
       "      <td>0</td>\n",
       "      <td>0</td>\n",
       "      <td>0</td>\n",
       "      <td>0</td>\n",
       "      <td>0</td>\n",
       "      <td>0</td>\n",
       "      <td>1</td>\n",
       "      <td>0</td>\n",
       "    </tr>\n",
       "    <tr>\n",
       "      <th>3</th>\n",
       "      <td>-0.947360</td>\n",
       "      <td>-0.590021</td>\n",
       "      <td>-0.048845</td>\n",
       "      <td>-1.586009</td>\n",
       "      <td>0</td>\n",
       "      <td>0</td>\n",
       "      <td>0</td>\n",
       "      <td>0</td>\n",
       "      <td>0</td>\n",
       "      <td>0</td>\n",
       "      <td>0</td>\n",
       "      <td>1</td>\n",
       "      <td>0</td>\n",
       "    </tr>\n",
       "    <tr>\n",
       "      <th>4</th>\n",
       "      <td>-0.879959</td>\n",
       "      <td>-0.729472</td>\n",
       "      <td>0.001313</td>\n",
       "      <td>-1.554588</td>\n",
       "      <td>0</td>\n",
       "      <td>0</td>\n",
       "      <td>0</td>\n",
       "      <td>0</td>\n",
       "      <td>0</td>\n",
       "      <td>0</td>\n",
       "      <td>0</td>\n",
       "      <td>1</td>\n",
       "      <td>0</td>\n",
       "    </tr>\n",
       "    <tr>\n",
       "      <th>...</th>\n",
       "      <td>...</td>\n",
       "      <td>...</td>\n",
       "      <td>...</td>\n",
       "      <td>...</td>\n",
       "      <td>...</td>\n",
       "      <td>...</td>\n",
       "      <td>...</td>\n",
       "      <td>...</td>\n",
       "      <td>...</td>\n",
       "      <td>...</td>\n",
       "      <td>...</td>\n",
       "      <td>...</td>\n",
       "      <td>...</td>\n",
       "    </tr>\n",
       "    <tr>\n",
       "      <th>9995</th>\n",
       "      <td>-1.082162</td>\n",
       "      <td>0.363820</td>\n",
       "      <td>-1.052012</td>\n",
       "      <td>-1.476034</td>\n",
       "      <td>0</td>\n",
       "      <td>0</td>\n",
       "      <td>0</td>\n",
       "      <td>0</td>\n",
       "      <td>0</td>\n",
       "      <td>0</td>\n",
       "      <td>0</td>\n",
       "      <td>0</td>\n",
       "      <td>1</td>\n",
       "    </tr>\n",
       "    <tr>\n",
       "      <th>9996</th>\n",
       "      <td>-1.082162</td>\n",
       "      <td>0.520005</td>\n",
       "      <td>-0.821283</td>\n",
       "      <td>-1.428902</td>\n",
       "      <td>0</td>\n",
       "      <td>0</td>\n",
       "      <td>0</td>\n",
       "      <td>0</td>\n",
       "      <td>0</td>\n",
       "      <td>0</td>\n",
       "      <td>1</td>\n",
       "      <td>0</td>\n",
       "      <td>0</td>\n",
       "    </tr>\n",
       "    <tr>\n",
       "      <th>9997</th>\n",
       "      <td>-0.947360</td>\n",
       "      <td>0.592519</td>\n",
       "      <td>-0.660777</td>\n",
       "      <td>-1.350349</td>\n",
       "      <td>0</td>\n",
       "      <td>0</td>\n",
       "      <td>0</td>\n",
       "      <td>0</td>\n",
       "      <td>0</td>\n",
       "      <td>0</td>\n",
       "      <td>0</td>\n",
       "      <td>0</td>\n",
       "      <td>1</td>\n",
       "    </tr>\n",
       "    <tr>\n",
       "      <th>9998</th>\n",
       "      <td>-0.879959</td>\n",
       "      <td>-0.729472</td>\n",
       "      <td>0.854005</td>\n",
       "      <td>-1.303217</td>\n",
       "      <td>0</td>\n",
       "      <td>0</td>\n",
       "      <td>0</td>\n",
       "      <td>0</td>\n",
       "      <td>0</td>\n",
       "      <td>0</td>\n",
       "      <td>1</td>\n",
       "      <td>0</td>\n",
       "      <td>0</td>\n",
       "    </tr>\n",
       "    <tr>\n",
       "      <th>9999</th>\n",
       "      <td>-0.879959</td>\n",
       "      <td>-0.216294</td>\n",
       "      <td>0.021376</td>\n",
       "      <td>-1.224663</td>\n",
       "      <td>0</td>\n",
       "      <td>0</td>\n",
       "      <td>0</td>\n",
       "      <td>0</td>\n",
       "      <td>0</td>\n",
       "      <td>0</td>\n",
       "      <td>0</td>\n",
       "      <td>0</td>\n",
       "      <td>1</td>\n",
       "    </tr>\n",
       "  </tbody>\n",
       "</table>\n",
       "<p>10000 rows × 13 columns</p>\n",
       "</div>"
      ],
      "text/plain": [
       "      Process temperature [K]  Rotational speed [rpm]  Torque [Nm]  \\\n",
       "0                   -0.947360                0.068185     0.282200   \n",
       "1                   -0.879959               -0.729472     0.633308   \n",
       "2                   -1.014761               -0.227450     0.944290   \n",
       "3                   -0.947360               -0.590021    -0.048845   \n",
       "4                   -0.879959               -0.729472     0.001313   \n",
       "...                       ...                     ...          ...   \n",
       "9995                -1.082162                0.363820    -1.052012   \n",
       "9996                -1.082162                0.520005    -0.821283   \n",
       "9997                -0.947360                0.592519    -0.660777   \n",
       "9998                -0.879959               -0.729472     0.854005   \n",
       "9999                -0.879959               -0.216294     0.021376   \n",
       "\n",
       "      Tool wear [min]  Machine failure  TWF  HDF  PWF  OSF  RNF  Type_H  \\\n",
       "0           -1.695984                0    0    0    0    0    0       0   \n",
       "1           -1.648852                0    0    0    0    0    0       0   \n",
       "2           -1.617430                0    0    0    0    0    0       0   \n",
       "3           -1.586009                0    0    0    0    0    0       0   \n",
       "4           -1.554588                0    0    0    0    0    0       0   \n",
       "...               ...              ...  ...  ...  ...  ...  ...     ...   \n",
       "9995        -1.476034                0    0    0    0    0    0       0   \n",
       "9996        -1.428902                0    0    0    0    0    0       1   \n",
       "9997        -1.350349                0    0    0    0    0    0       0   \n",
       "9998        -1.303217                0    0    0    0    0    0       1   \n",
       "9999        -1.224663                0    0    0    0    0    0       0   \n",
       "\n",
       "      Type_L  Type_M  \n",
       "0          0       1  \n",
       "1          1       0  \n",
       "2          1       0  \n",
       "3          1       0  \n",
       "4          1       0  \n",
       "...      ...     ...  \n",
       "9995       0       1  \n",
       "9996       0       0  \n",
       "9997       0       1  \n",
       "9998       0       0  \n",
       "9999       0       1  \n",
       "\n",
       "[10000 rows x 13 columns]"
      ]
     },
     "execution_count": 25,
     "metadata": {},
     "output_type": "execute_result"
    }
   ],
   "source": [
    "X"
   ]
  },
  {
   "cell_type": "code",
   "execution_count": 26,
   "id": "7f8422bb",
   "metadata": {},
   "outputs": [
    {
     "data": {
      "text/plain": [
       "0       298.1\n",
       "1       298.2\n",
       "2       298.1\n",
       "3       298.2\n",
       "4       298.2\n",
       "        ...  \n",
       "9995    298.8\n",
       "9996    298.9\n",
       "9997    299.0\n",
       "9998    299.0\n",
       "9999    299.0\n",
       "Name: Air temperature [K], Length: 10000, dtype: float64"
      ]
     },
     "execution_count": 26,
     "metadata": {},
     "output_type": "execute_result"
    }
   ],
   "source": [
    "y"
   ]
  },
  {
   "cell_type": "code",
   "execution_count": 31,
   "id": "eb93bf96",
   "metadata": {},
   "outputs": [],
   "source": [
    "from sklearn.model_selection import train_test_split\n",
    "X_train, X_test, Y_train, Y_test = train_test_split(X,y, test_size = 0.2, random_state = 42)"
   ]
  },
  {
   "cell_type": "markdown",
   "id": "59649685",
   "metadata": {},
   "source": [
    "## Model Selection"
   ]
  },
  {
   "cell_type": "code",
   "execution_count": 33,
   "id": "0dc4d6cb",
   "metadata": {},
   "outputs": [],
   "source": [
    "from sklearn.linear_model import LinearRegression\n",
    "linear = LinearRegression()"
   ]
  },
  {
   "cell_type": "markdown",
   "id": "7ccaea63",
   "metadata": {},
   "source": [
    "## Training The Model"
   ]
  },
  {
   "cell_type": "code",
   "execution_count": 34,
   "id": "938d5677",
   "metadata": {},
   "outputs": [
    {
     "data": {
      "text/plain": [
       "LinearRegression()"
      ]
     },
     "execution_count": 34,
     "metadata": {},
     "output_type": "execute_result"
    }
   ],
   "source": [
    "linear.fit(X_train,Y_train)"
   ]
  },
  {
   "cell_type": "markdown",
   "id": "5d39b56e",
   "metadata": {},
   "source": [
    "## Training Data Output"
   ]
  },
  {
   "cell_type": "code",
   "execution_count": 35,
   "id": "92aeedc0",
   "metadata": {},
   "outputs": [
    {
     "data": {
      "text/plain": [
       "299.9832236357094"
      ]
     },
     "execution_count": 35,
     "metadata": {},
     "output_type": "execute_result"
    }
   ],
   "source": [
    "linear.intercept_"
   ]
  },
  {
   "cell_type": "code",
   "execution_count": 36,
   "id": "79792af8",
   "metadata": {},
   "outputs": [
    {
     "data": {
      "text/plain": [
       "array([ 1.74258902e+00,  4.32714441e-02,  1.86691734e-02,  6.12510317e-03,\n",
       "       -2.61524715e-01,  3.20786764e-01,  1.96040662e+00,  2.97171709e-01,\n",
       "        3.45096427e-02, -2.08024340e-02, -3.14502558e-02,  7.98063504e-04,\n",
       "        3.06521923e-02])"
      ]
     },
     "execution_count": 36,
     "metadata": {},
     "output_type": "execute_result"
    }
   ],
   "source": [
    "linear.coef_"
   ]
  },
  {
   "cell_type": "markdown",
   "id": "11af57bd",
   "metadata": {},
   "source": [
    "## Building the predictive model"
   ]
  },
  {
   "cell_type": "code",
   "execution_count": 38,
   "id": "8e5d1d29",
   "metadata": {},
   "outputs": [],
   "source": [
    "file = 'predictive_maintainence.sav'\n",
    "pickle.dump(linear, open(file, 'wb'))"
   ]
  },
  {
   "cell_type": "code",
   "execution_count": 46,
   "id": "3656e557",
   "metadata": {},
   "outputs": [],
   "source": [
    "saved_model = pickle.load(open(file, 'rb'))"
   ]
  },
  {
   "cell_type": "code",
   "execution_count": 49,
   "id": "286fea2f",
   "metadata": {},
   "outputs": [
    {
     "data": {
      "text/plain": [
       "array([298.46400747])"
      ]
     },
     "execution_count": 49,
     "metadata": {},
     "output_type": "execute_result"
    }
   ],
   "source": [
    "saved_model.predict([[-0.879959, -0.216294, 0.021376, -1.224663, 0, 0, 0, 0, 0, 0, 0, 0, 1]])"
   ]
  },
  {
   "cell_type": "markdown",
   "id": "a5f4e04b",
   "metadata": {},
   "source": [
    "The actual result is 299.0 whereas our model gives result as 298.46"
   ]
  },
  {
   "cell_type": "code",
   "execution_count": 48,
   "id": "958008d0",
   "metadata": {},
   "outputs": [
    {
     "data": {
      "text/plain": [
       "0.7793414378841095"
      ]
     },
     "execution_count": 48,
     "metadata": {},
     "output_type": "execute_result"
    }
   ],
   "source": [
    "linear.score(X_train,Y_train)"
   ]
  },
  {
   "cell_type": "markdown",
   "id": "78c52c83",
   "metadata": {},
   "source": [
    "Accuracy of the linear model is 78% for the 80% of the data."
   ]
  }
 ],
 "metadata": {
  "kernelspec": {
   "display_name": "Python 3 (ipykernel)",
   "language": "python",
   "name": "python3"
  },
  "language_info": {
   "codemirror_mode": {
    "name": "ipython",
    "version": 3
   },
   "file_extension": ".py",
   "mimetype": "text/x-python",
   "name": "python",
   "nbconvert_exporter": "python",
   "pygments_lexer": "ipython3",
   "version": "3.9.7"
  }
 },
 "nbformat": 4,
 "nbformat_minor": 5
}
